{
  "cells": [
    {
      "cell_type": "code",
      "execution_count": 15,
      "metadata": {
        "colab": {
          "base_uri": "https://localhost:8080/"
        },
        "id": "YHK7N4WLjb1a",
        "outputId": "cf9fc9f0-956c-4614-c0a4-50e7ba28d74c"
      },
      "outputs": [],
      "source": [
        "\n",
        "import pandas as pd\n",
        "import numpy as np\n",
        "import matplotlib.pyplot as plt\n",
        "import statsmodels.api as sm\n",
        "import seaborn as sns\n",
        "from statsmodels.formula.api import ols"
      ]
    },
    {
      "cell_type": "code",
      "execution_count": 16,
      "metadata": {
        "colab": {
          "base_uri": "https://localhost:8080/",
          "height": 206
        },
        "id": "P4pfyAb_PDuw",
        "outputId": "4c4c36c3-6b31-45e5-ba8b-8d82740fa340"
      },
      "outputs": [
        {
          "data": {
            "text/html": [
              "<div>\n",
              "<style scoped>\n",
              "    .dataframe tbody tr th:only-of-type {\n",
              "        vertical-align: middle;\n",
              "    }\n",
              "\n",
              "    .dataframe tbody tr th {\n",
              "        vertical-align: top;\n",
              "    }\n",
              "\n",
              "    .dataframe thead th {\n",
              "        text-align: right;\n",
              "    }\n",
              "</style>\n",
              "<table border=\"1\" class=\"dataframe\">\n",
              "  <thead>\n",
              "    <tr style=\"text-align: right;\">\n",
              "      <th></th>\n",
              "      <th>TemptingFate</th>\n",
              "      <th>CognitiveLoad</th>\n",
              "      <th>Gender</th>\n",
              "      <th>AgeRange</th>\n",
              "      <th>EducationalLevel</th>\n",
              "      <th>Country</th>\n",
              "      <th>Response</th>\n",
              "      <th>Ending number</th>\n",
              "      <th>SelfReportedEffort</th>\n",
              "    </tr>\n",
              "  </thead>\n",
              "  <tbody>\n",
              "    <tr>\n",
              "      <th>0</th>\n",
              "      <td>no</td>\n",
              "      <td>no</td>\n",
              "      <td>woman</td>\n",
              "      <td>18-20</td>\n",
              "      <td>High school education</td>\n",
              "      <td>Spain</td>\n",
              "      <td>5.0</td>\n",
              "      <td>NaN</td>\n",
              "      <td>NaN</td>\n",
              "    </tr>\n",
              "    <tr>\n",
              "      <th>1</th>\n",
              "      <td>no</td>\n",
              "      <td>no</td>\n",
              "      <td>man</td>\n",
              "      <td>18-20</td>\n",
              "      <td>High school education</td>\n",
              "      <td>Spain</td>\n",
              "      <td>4.0</td>\n",
              "      <td>NaN</td>\n",
              "      <td>NaN</td>\n",
              "    </tr>\n",
              "    <tr>\n",
              "      <th>2</th>\n",
              "      <td>no</td>\n",
              "      <td>no</td>\n",
              "      <td>woman</td>\n",
              "      <td>20-25</td>\n",
              "      <td>Bachelor's degree</td>\n",
              "      <td>Spain</td>\n",
              "      <td>9.0</td>\n",
              "      <td>NaN</td>\n",
              "      <td>NaN</td>\n",
              "    </tr>\n",
              "    <tr>\n",
              "      <th>3</th>\n",
              "      <td>no</td>\n",
              "      <td>no</td>\n",
              "      <td>woman</td>\n",
              "      <td>20-25</td>\n",
              "      <td>Bachelor's degree</td>\n",
              "      <td>Spain</td>\n",
              "      <td>3.0</td>\n",
              "      <td>NaN</td>\n",
              "      <td>NaN</td>\n",
              "    </tr>\n",
              "    <tr>\n",
              "      <th>4</th>\n",
              "      <td>no</td>\n",
              "      <td>no</td>\n",
              "      <td>woman</td>\n",
              "      <td>20-25</td>\n",
              "      <td>Bachelor's degree</td>\n",
              "      <td>Spain</td>\n",
              "      <td>3.0</td>\n",
              "      <td>NaN</td>\n",
              "      <td>NaN</td>\n",
              "    </tr>\n",
              "  </tbody>\n",
              "</table>\n",
              "</div>"
            ],
            "text/plain": [
              "  TemptingFate CognitiveLoad Gender AgeRange       EducationalLevel Country  \\\n",
              "0           no            no  woman    18-20  High school education   Spain   \n",
              "1           no            no    man    18-20  High school education   Spain   \n",
              "2           no            no  woman    20-25      Bachelor's degree   Spain   \n",
              "3           no            no  woman    20-25      Bachelor's degree   Spain   \n",
              "4           no            no  woman    20-25      Bachelor's degree   Spain   \n",
              "\n",
              "   Response  Ending number  SelfReportedEffort  \n",
              "0       5.0            NaN                 NaN  \n",
              "1       4.0            NaN                 NaN  \n",
              "2       9.0            NaN                 NaN  \n",
              "3       3.0            NaN                 NaN  \n",
              "4       3.0            NaN                 NaN  "
            ]
          },
          "execution_count": 16,
          "metadata": {},
          "output_type": "execute_result"
        }
      ],
      "source": [
        "df = pd.read_excel('exp1results.xlsx')\n",
        "df2 = df.rename({'Likeability': 'Response'}, axis=1, inplace =True)  \n",
        "df.head()"
      ]
    },
    {
      "cell_type": "code",
      "execution_count": 17,
      "metadata": {
        "colab": {
          "base_uri": "https://localhost:8080/"
        },
        "id": "zfwGQI0ecup9",
        "outputId": "83af1b50-ca76-46ce-feaf-fd7c71768683"
      },
      "outputs": [
        {
          "data": {
            "text/plain": [
              "36"
            ]
          },
          "execution_count": 17,
          "metadata": {},
          "output_type": "execute_result"
        }
      ],
      "source": [
        "len(df)"
      ]
    },
    {
      "cell_type": "code",
      "execution_count": 18,
      "metadata": {
        "colab": {
          "base_uri": "https://localhost:8080/",
          "height": 206
        },
        "id": "cMaLYQxUjb1f",
        "outputId": "65a354ad-a3b6-4525-fa23-2357f59a979c"
      },
      "outputs": [
        {
          "data": {
            "text/html": [
              "<div>\n",
              "<style scoped>\n",
              "    .dataframe tbody tr th:only-of-type {\n",
              "        vertical-align: middle;\n",
              "    }\n",
              "\n",
              "    .dataframe tbody tr th {\n",
              "        vertical-align: top;\n",
              "    }\n",
              "\n",
              "    .dataframe thead th {\n",
              "        text-align: right;\n",
              "    }\n",
              "</style>\n",
              "<table border=\"1\" class=\"dataframe\">\n",
              "  <thead>\n",
              "    <tr style=\"text-align: right;\">\n",
              "      <th></th>\n",
              "      <th>TemptingFate</th>\n",
              "      <th>CognitiveLoad</th>\n",
              "      <th>Gender</th>\n",
              "      <th>AgeRange</th>\n",
              "      <th>EducationalLevel</th>\n",
              "      <th>Country</th>\n",
              "      <th>Response</th>\n",
              "      <th>Ending number</th>\n",
              "      <th>SelfReportedEffort</th>\n",
              "    </tr>\n",
              "  </thead>\n",
              "  <tbody>\n",
              "    <tr>\n",
              "      <th>0</th>\n",
              "      <td>Not Tempting Fate</td>\n",
              "      <td>No Load</td>\n",
              "      <td>woman</td>\n",
              "      <td>18-20</td>\n",
              "      <td>High school education</td>\n",
              "      <td>Spain</td>\n",
              "      <td>5.0</td>\n",
              "      <td>NaN</td>\n",
              "      <td>NaN</td>\n",
              "    </tr>\n",
              "    <tr>\n",
              "      <th>1</th>\n",
              "      <td>Not Tempting Fate</td>\n",
              "      <td>No Load</td>\n",
              "      <td>man</td>\n",
              "      <td>18-20</td>\n",
              "      <td>High school education</td>\n",
              "      <td>Spain</td>\n",
              "      <td>4.0</td>\n",
              "      <td>NaN</td>\n",
              "      <td>NaN</td>\n",
              "    </tr>\n",
              "    <tr>\n",
              "      <th>2</th>\n",
              "      <td>Not Tempting Fate</td>\n",
              "      <td>No Load</td>\n",
              "      <td>woman</td>\n",
              "      <td>20-25</td>\n",
              "      <td>Bachelor's degree</td>\n",
              "      <td>Spain</td>\n",
              "      <td>9.0</td>\n",
              "      <td>NaN</td>\n",
              "      <td>NaN</td>\n",
              "    </tr>\n",
              "    <tr>\n",
              "      <th>3</th>\n",
              "      <td>Not Tempting Fate</td>\n",
              "      <td>No Load</td>\n",
              "      <td>woman</td>\n",
              "      <td>20-25</td>\n",
              "      <td>Bachelor's degree</td>\n",
              "      <td>Spain</td>\n",
              "      <td>3.0</td>\n",
              "      <td>NaN</td>\n",
              "      <td>NaN</td>\n",
              "    </tr>\n",
              "    <tr>\n",
              "      <th>4</th>\n",
              "      <td>Not Tempting Fate</td>\n",
              "      <td>No Load</td>\n",
              "      <td>woman</td>\n",
              "      <td>20-25</td>\n",
              "      <td>Bachelor's degree</td>\n",
              "      <td>Spain</td>\n",
              "      <td>3.0</td>\n",
              "      <td>NaN</td>\n",
              "      <td>NaN</td>\n",
              "    </tr>\n",
              "  </tbody>\n",
              "</table>\n",
              "</div>"
            ],
            "text/plain": [
              "        TemptingFate CognitiveLoad Gender AgeRange       EducationalLevel  \\\n",
              "0  Not Tempting Fate       No Load  woman    18-20  High school education   \n",
              "1  Not Tempting Fate       No Load    man    18-20  High school education   \n",
              "2  Not Tempting Fate       No Load  woman    20-25      Bachelor's degree   \n",
              "3  Not Tempting Fate       No Load  woman    20-25      Bachelor's degree   \n",
              "4  Not Tempting Fate       No Load  woman    20-25      Bachelor's degree   \n",
              "\n",
              "  Country  Response  Ending number  SelfReportedEffort  \n",
              "0   Spain       5.0            NaN                 NaN  \n",
              "1   Spain       4.0            NaN                 NaN  \n",
              "2   Spain       9.0            NaN                 NaN  \n",
              "3   Spain       3.0            NaN                 NaN  \n",
              "4   Spain       3.0            NaN                 NaN  "
            ]
          },
          "execution_count": 18,
          "metadata": {},
          "output_type": "execute_result"
        }
      ],
      "source": [
        "df['TemptingFate'].replace({'yes': 'Tempting Fate', 'no': 'Not Tempting Fate'}, inplace=True)\n",
        "df['CognitiveLoad'].replace({'yes': 'Cognitive Load', 'no': 'No Load'}, inplace=True)\n",
        "df.head()"
      ]
    },
    {
      "cell_type": "code",
      "execution_count": 19,
      "metadata": {
        "colab": {
          "base_uri": "https://localhost:8080/"
        },
        "id": "6IvlEjooo82F",
        "outputId": "e816675c-3978-40ff-fb17-b7c5c757897c"
      },
      "outputs": [
        {
          "data": {
            "text/plain": [
              "36"
            ]
          },
          "execution_count": 19,
          "metadata": {},
          "output_type": "execute_result"
        }
      ],
      "source": [
        "len(df)"
      ]
    },
    {
      "cell_type": "code",
      "execution_count": 20,
      "metadata": {
        "id": "A4pRqBU42l52"
      },
      "outputs": [],
      "source": [
        "import scipy.stats as stats\n",
        "\n",
        "def test(tf, cl):\n",
        "  x = df[(df['TemptingFate'] == tf) & (df['CognitiveLoad'] == cl)]['Response'].values\n",
        "  print(len(x))\n",
        "  sns.histplot(x, bins=10)\n",
        "  print(stats.normaltest(x))"
      ]
    },
    {
      "cell_type": "code",
      "execution_count": 21,
      "metadata": {
        "colab": {
          "base_uri": "https://localhost:8080/",
          "height": 338
        },
        "id": "VG6xmjVT3PF9",
        "outputId": "49da9b6f-9caf-4132-ff7f-860d7417164e"
      },
      "outputs": [
        {
          "name": "stdout",
          "output_type": "stream",
          "text": [
            "9\n",
            "NormaltestResult(statistic=3.7586583608804887, pvalue=0.1526925005248176)\n"
          ]
        },
        {
          "name": "stderr",
          "output_type": "stream",
          "text": [
            "C:\\Users\\vaorc\\anaconda3\\lib\\site-packages\\scipy\\stats\\stats.py:1541: UserWarning: kurtosistest only valid for n>=20 ... continuing anyway, n=9\n",
            "  warnings.warn(\"kurtosistest only valid for n>=20 ... continuing \"\n"
          ]
        },
        {
          "data": {
            "image/png": "[encoded data removed]",
            "text/plain": [
              "<Figure size 432x288 with 1 Axes>"
            ]
          },
          "metadata": {
            "needs_background": "light"
          },
          "output_type": "display_data"
        }
      ],
      "source": [
        "test('Not Tempting Fate', 'No Load')"
      ]
    },
    {
      "cell_type": "code",
      "execution_count": 22,
      "metadata": {
        "colab": {
          "base_uri": "https://localhost:8080/",
          "height": 338
        },
        "id": "MZsn7_fZ3R6J",
        "outputId": "d0081484-8b8c-441c-c90c-8a441d7cb501"
      },
      "outputs": [
        {
          "name": "stdout",
          "output_type": "stream",
          "text": [
            "9\n",
            "NormaltestResult(statistic=1.2048723404825887, pvalue=0.547476264774477)\n"
          ]
        },
        {
          "name": "stderr",
          "output_type": "stream",
          "text": [
            "C:\\Users\\vaorc\\anaconda3\\lib\\site-packages\\scipy\\stats\\stats.py:1541: UserWarning: kurtosistest only valid for n>=20 ... continuing anyway, n=9\n",
            "  warnings.warn(\"kurtosistest only valid for n>=20 ... continuing \"\n"
          ]
        },
        {
          "data": {
            "image/png": "[encoded data removed]",
            "text/plain": [
              "<Figure size 432x288 with 1 Axes>"
            ]
          },
          "metadata": {
            "needs_background": "light"
          },
          "output_type": "display_data"
        }
      ],
      "source": [
        "test('Not Tempting Fate', 'Cognitive Load')"
      ]
    },
    {
      "cell_type": "code",
      "execution_count": 23,
      "metadata": {
        "colab": {
          "base_uri": "https://localhost:8080/",
          "height": 338
        },
        "id": "x1FA7vJM35Bt",
        "outputId": "4e11e0c9-8a97-4f88-c9ee-a71a37b0cc1f"
      },
      "outputs": [
        {
          "name": "stdout",
          "output_type": "stream",
          "text": [
            "9\n",
            "NormaltestResult(statistic=2.2869672369277048, pvalue=0.3187068327128179)\n"
          ]
        },
        {
          "name": "stderr",
          "output_type": "stream",
          "text": [
            "C:\\Users\\vaorc\\anaconda3\\lib\\site-packages\\scipy\\stats\\stats.py:1541: UserWarning: kurtosistest only valid for n>=20 ... continuing anyway, n=9\n",
            "  warnings.warn(\"kurtosistest only valid for n>=20 ... continuing \"\n"
          ]
        },
        {
          "data": {
            "image/png": "[encoded data removed]",
            "text/plain": [
              "<Figure size 432x288 with 1 Axes>"
            ]
          },
          "metadata": {
            "needs_background": "light"
          },
          "output_type": "display_data"
        }
      ],
      "source": [
        "test('Tempting Fate', 'No Load')"
      ]
    },
    {
      "cell_type": "code",
      "execution_count": 24,
      "metadata": {
        "colab": {
          "base_uri": "https://localhost:8080/",
          "height": 338
        },
        "id": "U7zjhnF337eZ",
        "outputId": "4698a85d-90ca-442a-bb49-7f91c6cfb612"
      },
      "outputs": [
        {
          "name": "stdout",
          "output_type": "stream",
          "text": [
            "9\n",
            "NormaltestResult(statistic=4.641654424193439, pvalue=0.09819232611960964)\n"
          ]
        },
        {
          "name": "stderr",
          "output_type": "stream",
          "text": [
            "C:\\Users\\vaorc\\anaconda3\\lib\\site-packages\\scipy\\stats\\stats.py:1541: UserWarning: kurtosistest only valid for n>=20 ... continuing anyway, n=9\n",
            "  warnings.warn(\"kurtosistest only valid for n>=20 ... continuing \"\n"
          ]
        },
        {
          "data": {
            "image/png": "[encoded data removed]",
            "text/plain": [
              "<Figure size 432x288 with 1 Axes>"
            ]
          },
          "metadata": {
            "needs_background": "light"
          },
          "output_type": "display_data"
        }
      ],
      "source": [
        "test('Tempting Fate', 'Cognitive Load')"
      ]
    },
    {
      "cell_type": "code",
      "execution_count": 25,
      "metadata": {
        "colab": {
          "base_uri": "https://localhost:8080/",
          "height": 175
        },
        "id": "v6OYn3Yf2iAQ",
        "outputId": "e255c3f0-73a7-4dda-d2e6-2d4e759f09dc"
      },
      "outputs": [
        {
          "data": {
            "text/html": [
              "<div>\n",
              "<style scoped>\n",
              "    .dataframe tbody tr th:only-of-type {\n",
              "        vertical-align: middle;\n",
              "    }\n",
              "\n",
              "    .dataframe tbody tr th {\n",
              "        vertical-align: top;\n",
              "    }\n",
              "\n",
              "    .dataframe thead th {\n",
              "        text-align: right;\n",
              "    }\n",
              "</style>\n",
              "<table border=\"1\" class=\"dataframe\">\n",
              "  <thead>\n",
              "    <tr style=\"text-align: right;\">\n",
              "      <th></th>\n",
              "      <th>sum_sq</th>\n",
              "      <th>df</th>\n",
              "      <th>F</th>\n",
              "      <th>PR(&gt;F)</th>\n",
              "    </tr>\n",
              "  </thead>\n",
              "  <tbody>\n",
              "    <tr>\n",
              "      <th>C(CognitiveLoad)</th>\n",
              "      <td>10.027778</td>\n",
              "      <td>1.0</td>\n",
              "      <td>2.238760</td>\n",
              "      <td>0.144388</td>\n",
              "    </tr>\n",
              "    <tr>\n",
              "      <th>C(TemptingFate)</th>\n",
              "      <td>8.027778</td>\n",
              "      <td>1.0</td>\n",
              "      <td>1.792248</td>\n",
              "      <td>0.190086</td>\n",
              "    </tr>\n",
              "    <tr>\n",
              "      <th>C(CognitiveLoad):C(TemptingFate)</th>\n",
              "      <td>2.250000</td>\n",
              "      <td>1.0</td>\n",
              "      <td>0.502326</td>\n",
              "      <td>0.483612</td>\n",
              "    </tr>\n",
              "    <tr>\n",
              "      <th>Residual</th>\n",
              "      <td>143.333333</td>\n",
              "      <td>32.0</td>\n",
              "      <td>NaN</td>\n",
              "      <td>NaN</td>\n",
              "    </tr>\n",
              "  </tbody>\n",
              "</table>\n",
              "</div>"
            ],
            "text/plain": [
              "                                      sum_sq    df         F    PR(>F)\n",
              "C(CognitiveLoad)                   10.027778   1.0  2.238760  0.144388\n",
              "C(TemptingFate)                     8.027778   1.0  1.792248  0.190086\n",
              "C(CognitiveLoad):C(TemptingFate)    2.250000   1.0  0.502326  0.483612\n",
              "Residual                          143.333333  32.0       NaN       NaN"
            ]
          },
          "execution_count": 25,
          "metadata": {},
          "output_type": "execute_result"
        }
      ],
      "source": [
        "model = ols('Response ~ C(CognitiveLoad) + C(TemptingFate) + C(CognitiveLoad) : C(TemptingFate)', data=df).fit()\n",
        "sm.stats.anova_lm(model,typ=2)"
      ]
    },
    {
      "cell_type": "code",
      "execution_count": 26,
      "metadata": {
        "colab": {
          "base_uri": "https://localhost:8080/",
          "height": 311
        },
        "id": "ybFL3Hp7jb1g",
        "outputId": "5c60924f-f32d-4a2a-bc9c-298041e8b116"
      },
      "outputs": [
        {
          "data": {
            "text/plain": [
              "Text(0, 0.5, 'Likelihood Judgements')"
            ]
          },
          "execution_count": 26,
          "metadata": {},
          "output_type": "execute_result"
        },
        {
          "data": {
            "image/png": "[encoded data removed]",
            "text/plain": [
              "<Figure size 432x288 with 1 Axes>"
            ]
          },
          "metadata": {
            "needs_background": "light"
          },
          "output_type": "display_data"
        }
      ],
      "source": [
        "sns.barplot(x='CognitiveLoad', y='Response', hue='TemptingFate', data=df, capsize=.05, ci='sd')\n",
        "plt.legend(loc='upper center', bbox_to_anchor=(0.5, 1.15), fancybox=True, shadow=True, ncol=5)\n",
        "plt.xlabel('')\n",
        "plt.ylabel('Likelihood Judgements')"
      ]
    },
    {
      "cell_type": "code",
      "execution_count": 27,
      "metadata": {
        "colab": {
          "base_uri": "https://localhost:8080/"
        },
        "id": "dPDGzfucT_lP",
        "outputId": "e58e9286-9012-4392-9ba3-bcc8a769bb5d"
      },
      "outputs": [
        {
          "data": {
            "text/plain": [
              "Ttest_indResult(statistic=1.802775637731995, pvalue=0.0902894607270621)"
            ]
          },
          "execution_count": 27,
          "metadata": {},
          "output_type": "execute_result"
        }
      ],
      "source": [
        "cl_tf = df[(df['CognitiveLoad'] == 'Cognitive Load') & (df['TemptingFate'] == 'Tempting Fate')]\n",
        "cl_ntf = df[(df['CognitiveLoad'] == 'Cognitive Load') & (df['TemptingFate'] == 'Not Tempting Fate')]\n",
        "stats.ttest_ind(cl_ntf['Response'], cl_tf['Response'])"
      ]
    },
    {
      "cell_type": "code",
      "execution_count": 28,
      "metadata": {
        "colab": {
          "base_uri": "https://localhost:8080/"
        },
        "id": "DH2KaahCXJhK",
        "outputId": "5d5c1b53-e4c3-4715-fc56-50fdf7f47c20"
      },
      "outputs": [
        {
          "data": {
            "text/plain": [
              "Ttest_indResult(statistic=0.38269189858795205, pvalue=0.7069843191529694)"
            ]
          },
          "execution_count": 28,
          "metadata": {},
          "output_type": "execute_result"
        }
      ],
      "source": [
        "cl_tf = df[(df['CognitiveLoad'] == 'No Load') & (df['TemptingFate'] == 'Tempting Fate')]\n",
        "cl_ntf = df[(df['CognitiveLoad'] == 'No Load') & (df['TemptingFate'] == 'Not Tempting Fate')]\n",
        "stats.ttest_ind(cl_ntf['Response'], cl_tf['Response'])"
      ]
    },
    {
      "cell_type": "code",
      "execution_count": null,
      "metadata": {
        "id": "61X-nckC7ueJ"
      },
      "outputs": [],
      "source": []
    }
  ],
  "metadata": {
    "colab": {
      "collapsed_sections": [],
      "name": "Replication.ipynb",
      "provenance": []
    },
    "interpreter": {
      "hash": "200def6cb94efbbe49cc2b8fac879d31684949201b31c878ad4c5c6bd0710b45"
    },
    "kernelspec": {
      "display_name": "Python 3.9.7 64-bit ('base': conda)",
      "language": "python",
      "name": "python3"
    },
    "language_info": {
      "codemirror_mode": {
        "name": "ipython",
        "version": 3
      },
      "file_extension": ".py",
      "mimetype": "text/x-python",
      "name": "python",
      "nbconvert_exporter": "python",
      "pygments_lexer": "ipython3",
      "version": "3.9.7"
    },
    "orig_nbformat": 4
  },
  "nbformat": 4,
  "nbformat_minor": 0
}
